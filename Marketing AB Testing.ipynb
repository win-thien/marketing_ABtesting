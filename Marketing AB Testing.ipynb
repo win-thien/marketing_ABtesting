{
 "cells": [
  {
   "cell_type": "markdown",
   "id": "1903a114",
   "metadata": {},
   "source": [
    "### Thien Win, PE\n",
    "\n",
    "### Project: Marketing A/B Testing\n",
    "\n",
    "<b>Contact:</b> win.thien@gmail.com <br>\n",
    "<b>LinkedIn:</b> https://www.linkedin.com/in/thien-win-pe/<br>\n",
    "<b>GitHub:</b> https://github.com/win-thien<br>\n",
    "\n",
    "<hr>"
   ]
  },
  {
   "cell_type": "markdown",
   "id": "4d0b3d1f",
   "metadata": {},
   "source": [
    "### Introduction"
   ]
  },
  {
   "cell_type": "markdown",
   "id": "f6638ddf",
   "metadata": {},
   "source": [
    "The focus of this notebook is to perform some exploratory data analysis on marketing data and determine if the marketing strategy was effective with A/B Testing. The data used in this notebook will be included in the associated repository.\n",
    "\n",
    "<b> Premise: </b>\n",
    "\n",
    "A marketing company is debating if a certain ad placement strategy is effective in customer conversion. The idea of the dataset is to analyze the different conversion rates of the different experimental groups to find if the ads were successful and if the difference between the groups is statistically significant.\n",
    "\n",
    "Data dictionary:\n",
    "\n",
    "- Index: Row index\n",
    "- user id: User ID (unique)\n",
    "- test group: If \"ad\" the person saw the advertisement, if \"psa\" they only saw the public service announcement\n",
    "- converted: If a person bought the product then True, else is False\n",
    "- total ads: Amount of ads seen by person\n",
    "- most ads day: Day that the person saw the biggest amount of ads\n",
    "- most ads hour: Hour of day that the person saw the biggest amount of ads\n",
    "\n",
    "The majority of the people will be exposed to ads (the experimental group). And a small portion of people (the control group) would instead see a Public Service Announcement (PSA or nothing) in the exact size and place the ad would normally be.\n",
    "\n",
    "<hr>"
   ]
  },
  {
   "cell_type": "markdown",
   "id": "3b7306d1",
   "metadata": {},
   "source": [
    "### Setup"
   ]
  },
  {
   "cell_type": "markdown",
   "id": "54f1b910",
   "metadata": {},
   "source": [
    "The first step in the process is to import the required libraries to be used, the dataset (included in the repository as a csv file) and familiarize oneself with the data available."
   ]
  },
  {
   "cell_type": "code",
   "execution_count": 179,
   "id": "d51bfaf1",
   "metadata": {},
   "outputs": [],
   "source": [
    "#import base libraries and modules\n",
    "import pandas as pd\n",
    "import numpy as np\n",
    "import matplotlib.pyplot as plt\n",
    "import seaborn as sns"
   ]
  },
  {
   "cell_type": "code",
   "execution_count": 188,
   "id": "9a0d0f73",
   "metadata": {},
   "outputs": [
    {
     "data": {
      "text/html": [
       "<div>\n",
       "<style scoped>\n",
       "    .dataframe tbody tr th:only-of-type {\n",
       "        vertical-align: middle;\n",
       "    }\n",
       "\n",
       "    .dataframe tbody tr th {\n",
       "        vertical-align: top;\n",
       "    }\n",
       "\n",
       "    .dataframe thead th {\n",
       "        text-align: right;\n",
       "    }\n",
       "</style>\n",
       "<table border=\"1\" class=\"dataframe\">\n",
       "  <thead>\n",
       "    <tr style=\"text-align: right;\">\n",
       "      <th></th>\n",
       "      <th>Unnamed: 0</th>\n",
       "      <th>user id</th>\n",
       "      <th>test group</th>\n",
       "      <th>converted</th>\n",
       "      <th>total ads</th>\n",
       "      <th>most ads day</th>\n",
       "      <th>most ads hour</th>\n",
       "    </tr>\n",
       "  </thead>\n",
       "  <tbody>\n",
       "    <tr>\n",
       "      <th>0</th>\n",
       "      <td>0</td>\n",
       "      <td>1069124</td>\n",
       "      <td>ad</td>\n",
       "      <td>False</td>\n",
       "      <td>130</td>\n",
       "      <td>Monday</td>\n",
       "      <td>20</td>\n",
       "    </tr>\n",
       "    <tr>\n",
       "      <th>1</th>\n",
       "      <td>1</td>\n",
       "      <td>1119715</td>\n",
       "      <td>ad</td>\n",
       "      <td>False</td>\n",
       "      <td>93</td>\n",
       "      <td>Tuesday</td>\n",
       "      <td>22</td>\n",
       "    </tr>\n",
       "    <tr>\n",
       "      <th>2</th>\n",
       "      <td>2</td>\n",
       "      <td>1144181</td>\n",
       "      <td>ad</td>\n",
       "      <td>False</td>\n",
       "      <td>21</td>\n",
       "      <td>Tuesday</td>\n",
       "      <td>18</td>\n",
       "    </tr>\n",
       "    <tr>\n",
       "      <th>3</th>\n",
       "      <td>3</td>\n",
       "      <td>1435133</td>\n",
       "      <td>ad</td>\n",
       "      <td>False</td>\n",
       "      <td>355</td>\n",
       "      <td>Tuesday</td>\n",
       "      <td>10</td>\n",
       "    </tr>\n",
       "    <tr>\n",
       "      <th>4</th>\n",
       "      <td>4</td>\n",
       "      <td>1015700</td>\n",
       "      <td>ad</td>\n",
       "      <td>False</td>\n",
       "      <td>276</td>\n",
       "      <td>Friday</td>\n",
       "      <td>14</td>\n",
       "    </tr>\n",
       "  </tbody>\n",
       "</table>\n",
       "</div>"
      ],
      "text/plain": [
       "   Unnamed: 0  user id test group  converted  total ads most ads day  \\\n",
       "0           0  1069124         ad      False        130       Monday   \n",
       "1           1  1119715         ad      False         93      Tuesday   \n",
       "2           2  1144181         ad      False         21      Tuesday   \n",
       "3           3  1435133         ad      False        355      Tuesday   \n",
       "4           4  1015700         ad      False        276       Friday   \n",
       "\n",
       "   most ads hour  \n",
       "0             20  \n",
       "1             22  \n",
       "2             18  \n",
       "3             10  \n",
       "4             14  "
      ]
     },
     "execution_count": 188,
     "metadata": {},
     "output_type": "execute_result"
    }
   ],
   "source": [
    "#read in csv file\n",
    "df = pd.read_csv('marketing_AB.csv',)\n",
    "df.head()"
   ]
  },
  {
   "cell_type": "code",
   "execution_count": 189,
   "id": "0f644be6",
   "metadata": {},
   "outputs": [
    {
     "name": "stdout",
     "output_type": "stream",
     "text": [
      "<class 'pandas.core.frame.DataFrame'>\n",
      "RangeIndex: 588101 entries, 0 to 588100\n",
      "Data columns (total 7 columns):\n",
      " #   Column         Non-Null Count   Dtype \n",
      "---  ------         --------------   ----- \n",
      " 0   Unnamed: 0     588101 non-null  int64 \n",
      " 1   user id        588101 non-null  int64 \n",
      " 2   test group     588101 non-null  object\n",
      " 3   converted      588101 non-null  bool  \n",
      " 4   total ads      588101 non-null  int64 \n",
      " 5   most ads day   588101 non-null  object\n",
      " 6   most ads hour  588101 non-null  int64 \n",
      "dtypes: bool(1), int64(4), object(2)\n",
      "memory usage: 27.5+ MB\n"
     ]
    }
   ],
   "source": [
    "#inspect data\n",
    "df.info()"
   ]
  },
  {
   "cell_type": "markdown",
   "id": "d67bb663",
   "metadata": {},
   "source": [
    "The dataframe has been successfully created. It can be seen from the above that there does not seem to be any null values. For the next steps, the data will need to be cleaned, deeply inspected and organized so that further analysis can be possible.\n",
    "\n",
    "<hr>"
   ]
  },
  {
   "cell_type": "markdown",
   "id": "86555a60",
   "metadata": {},
   "source": [
    "### Data Cleaning and Wrangling "
   ]
  },
  {
   "cell_type": "markdown",
   "id": "08211303",
   "metadata": {},
   "source": [
    "There are a few items that need to be addressed to clean the data and can be summarized as such:\n",
    "\n",
    "- reset the index\n",
    "- rename column names\n",
    "- check for duplicates\n",
    "- change 'converted' from boolean data type to integer (0 = no, 1 = yes)\n",
    "- explicitly check for null values\n",
    "\n",
    "The steps will be carried out in order."
   ]
  },
  {
   "cell_type": "code",
   "execution_count": 190,
   "id": "da9f6a31",
   "metadata": {},
   "outputs": [
    {
     "data": {
      "text/html": [
       "<div>\n",
       "<style scoped>\n",
       "    .dataframe tbody tr th:only-of-type {\n",
       "        vertical-align: middle;\n",
       "    }\n",
       "\n",
       "    .dataframe tbody tr th {\n",
       "        vertical-align: top;\n",
       "    }\n",
       "\n",
       "    .dataframe thead th {\n",
       "        text-align: right;\n",
       "    }\n",
       "</style>\n",
       "<table border=\"1\" class=\"dataframe\">\n",
       "  <thead>\n",
       "    <tr style=\"text-align: right;\">\n",
       "      <th></th>\n",
       "      <th>user id</th>\n",
       "      <th>test group</th>\n",
       "      <th>converted</th>\n",
       "      <th>total ads</th>\n",
       "      <th>most ads day</th>\n",
       "      <th>most ads hour</th>\n",
       "    </tr>\n",
       "  </thead>\n",
       "  <tbody>\n",
       "    <tr>\n",
       "      <th>0</th>\n",
       "      <td>1069124</td>\n",
       "      <td>ad</td>\n",
       "      <td>False</td>\n",
       "      <td>130</td>\n",
       "      <td>Monday</td>\n",
       "      <td>20</td>\n",
       "    </tr>\n",
       "    <tr>\n",
       "      <th>1</th>\n",
       "      <td>1119715</td>\n",
       "      <td>ad</td>\n",
       "      <td>False</td>\n",
       "      <td>93</td>\n",
       "      <td>Tuesday</td>\n",
       "      <td>22</td>\n",
       "    </tr>\n",
       "    <tr>\n",
       "      <th>2</th>\n",
       "      <td>1144181</td>\n",
       "      <td>ad</td>\n",
       "      <td>False</td>\n",
       "      <td>21</td>\n",
       "      <td>Tuesday</td>\n",
       "      <td>18</td>\n",
       "    </tr>\n",
       "    <tr>\n",
       "      <th>3</th>\n",
       "      <td>1435133</td>\n",
       "      <td>ad</td>\n",
       "      <td>False</td>\n",
       "      <td>355</td>\n",
       "      <td>Tuesday</td>\n",
       "      <td>10</td>\n",
       "    </tr>\n",
       "    <tr>\n",
       "      <th>4</th>\n",
       "      <td>1015700</td>\n",
       "      <td>ad</td>\n",
       "      <td>False</td>\n",
       "      <td>276</td>\n",
       "      <td>Friday</td>\n",
       "      <td>14</td>\n",
       "    </tr>\n",
       "  </tbody>\n",
       "</table>\n",
       "</div>"
      ],
      "text/plain": [
       "   user id test group  converted  total ads most ads day  most ads hour\n",
       "0  1069124         ad      False        130       Monday             20\n",
       "1  1119715         ad      False         93      Tuesday             22\n",
       "2  1144181         ad      False         21      Tuesday             18\n",
       "3  1435133         ad      False        355      Tuesday             10\n",
       "4  1015700         ad      False        276       Friday             14"
      ]
     },
     "execution_count": 190,
     "metadata": {},
     "output_type": "execute_result"
    }
   ],
   "source": [
    "#resetting index by dropping first column\n",
    "df = df.iloc[: , 1:]\n",
    "df.head()"
   ]
  },
  {
   "cell_type": "code",
   "execution_count": 191,
   "id": "1730e073",
   "metadata": {},
   "outputs": [
    {
     "data": {
      "text/html": [
       "<div>\n",
       "<style scoped>\n",
       "    .dataframe tbody tr th:only-of-type {\n",
       "        vertical-align: middle;\n",
       "    }\n",
       "\n",
       "    .dataframe tbody tr th {\n",
       "        vertical-align: top;\n",
       "    }\n",
       "\n",
       "    .dataframe thead th {\n",
       "        text-align: right;\n",
       "    }\n",
       "</style>\n",
       "<table border=\"1\" class=\"dataframe\">\n",
       "  <thead>\n",
       "    <tr style=\"text-align: right;\">\n",
       "      <th></th>\n",
       "      <th>user_id</th>\n",
       "      <th>test_group</th>\n",
       "      <th>converted</th>\n",
       "      <th>total_ads</th>\n",
       "      <th>most_ads_day</th>\n",
       "      <th>most_ads_hour</th>\n",
       "    </tr>\n",
       "  </thead>\n",
       "  <tbody>\n",
       "    <tr>\n",
       "      <th>0</th>\n",
       "      <td>1069124</td>\n",
       "      <td>ad</td>\n",
       "      <td>False</td>\n",
       "      <td>130</td>\n",
       "      <td>Monday</td>\n",
       "      <td>20</td>\n",
       "    </tr>\n",
       "    <tr>\n",
       "      <th>1</th>\n",
       "      <td>1119715</td>\n",
       "      <td>ad</td>\n",
       "      <td>False</td>\n",
       "      <td>93</td>\n",
       "      <td>Tuesday</td>\n",
       "      <td>22</td>\n",
       "    </tr>\n",
       "    <tr>\n",
       "      <th>2</th>\n",
       "      <td>1144181</td>\n",
       "      <td>ad</td>\n",
       "      <td>False</td>\n",
       "      <td>21</td>\n",
       "      <td>Tuesday</td>\n",
       "      <td>18</td>\n",
       "    </tr>\n",
       "    <tr>\n",
       "      <th>3</th>\n",
       "      <td>1435133</td>\n",
       "      <td>ad</td>\n",
       "      <td>False</td>\n",
       "      <td>355</td>\n",
       "      <td>Tuesday</td>\n",
       "      <td>10</td>\n",
       "    </tr>\n",
       "    <tr>\n",
       "      <th>4</th>\n",
       "      <td>1015700</td>\n",
       "      <td>ad</td>\n",
       "      <td>False</td>\n",
       "      <td>276</td>\n",
       "      <td>Friday</td>\n",
       "      <td>14</td>\n",
       "    </tr>\n",
       "  </tbody>\n",
       "</table>\n",
       "</div>"
      ],
      "text/plain": [
       "   user_id test_group  converted  total_ads most_ads_day  most_ads_hour\n",
       "0  1069124         ad      False        130       Monday             20\n",
       "1  1119715         ad      False         93      Tuesday             22\n",
       "2  1144181         ad      False         21      Tuesday             18\n",
       "3  1435133         ad      False        355      Tuesday             10\n",
       "4  1015700         ad      False        276       Friday             14"
      ]
     },
     "execution_count": 191,
     "metadata": {},
     "output_type": "execute_result"
    }
   ],
   "source": [
    "#rename columns\n",
    "df.rename(columns={'user id':'user_id',\n",
    "                  'test group':'test_group',\n",
    "                  'total ads':'total_ads',\n",
    "                  'most ads day':'most_ads_day', \n",
    "                  'most ads hour':'most_ads_hour',}, inplace=True)\n",
    "\n",
    "df.head()"
   ]
  },
  {
   "cell_type": "code",
   "execution_count": 192,
   "id": "97f4f280",
   "metadata": {},
   "outputs": [
    {
     "name": "stdout",
     "output_type": "stream",
     "text": [
      "Duplicates: 0\n"
     ]
    }
   ],
   "source": [
    "#checking for duplicates\n",
    "print('Duplicates:', df.duplicated().sum())"
   ]
  },
  {
   "cell_type": "code",
   "execution_count": 193,
   "id": "8418047b",
   "metadata": {},
   "outputs": [
    {
     "data": {
      "text/plain": [
       "user_id           int64\n",
       "test_group       object\n",
       "converted          bool\n",
       "total_ads         int64\n",
       "most_ads_day     object\n",
       "most_ads_hour     int64\n",
       "dtype: object"
      ]
     },
     "execution_count": 193,
     "metadata": {},
     "output_type": "execute_result"
    }
   ],
   "source": [
    "#checking data types\n",
    "df.dtypes"
   ]
  },
  {
   "cell_type": "code",
   "execution_count": 194,
   "id": "cd8dda2d",
   "metadata": {},
   "outputs": [
    {
     "data": {
      "text/plain": [
       "False    573258\n",
       "True      14843\n",
       "Name: converted, dtype: int64"
      ]
     },
     "execution_count": 194,
     "metadata": {},
     "output_type": "execute_result"
    }
   ],
   "source": [
    "#check 'converted' totals to make sure it matches when we convert the datatype\n",
    "df['converted'].value_counts()"
   ]
  },
  {
   "cell_type": "code",
   "execution_count": 195,
   "id": "e737efb0",
   "metadata": {},
   "outputs": [
    {
     "data": {
      "text/plain": [
       "0    573258\n",
       "1     14843\n",
       "Name: converted, dtype: int64"
      ]
     },
     "execution_count": 195,
     "metadata": {},
     "output_type": "execute_result"
    }
   ],
   "source": [
    "#convert boolean to binary\n",
    "df['converted'] = df['converted'].astype('int')\n",
    "df['converted'].value_counts()"
   ]
  },
  {
   "cell_type": "code",
   "execution_count": 196,
   "id": "fa3b0325",
   "metadata": {},
   "outputs": [
    {
     "name": "stdout",
     "output_type": "stream",
     "text": [
      "Null Values in Data\n"
     ]
    },
    {
     "data": {
      "text/plain": [
       "user_id          0\n",
       "test_group       0\n",
       "converted        0\n",
       "total_ads        0\n",
       "most_ads_day     0\n",
       "most_ads_hour    0\n",
       "dtype: int64"
      ]
     },
     "execution_count": 196,
     "metadata": {},
     "output_type": "execute_result"
    }
   ],
   "source": [
    "#checking for null items\n",
    "print('Null Values in Data')\n",
    "df.isnull().sum()"
   ]
  },
  {
   "cell_type": "markdown",
   "id": "eadef90f",
   "metadata": {},
   "source": [
    "The data has been cleaned enough to be used for further analysis. At this point, a high level statistical understanding of the data can be inspected before diving deeper."
   ]
  },
  {
   "cell_type": "code",
   "execution_count": 201,
   "id": "b3d7c040",
   "metadata": {},
   "outputs": [
    {
     "data": {
      "text/html": [
       "<div>\n",
       "<style scoped>\n",
       "    .dataframe tbody tr th:only-of-type {\n",
       "        vertical-align: middle;\n",
       "    }\n",
       "\n",
       "    .dataframe tbody tr th {\n",
       "        vertical-align: top;\n",
       "    }\n",
       "\n",
       "    .dataframe thead th {\n",
       "        text-align: right;\n",
       "    }\n",
       "</style>\n",
       "<table border=\"1\" class=\"dataframe\">\n",
       "  <thead>\n",
       "    <tr style=\"text-align: right;\">\n",
       "      <th></th>\n",
       "      <th>count</th>\n",
       "      <th>mean</th>\n",
       "      <th>std</th>\n",
       "      <th>min</th>\n",
       "      <th>25%</th>\n",
       "      <th>50%</th>\n",
       "      <th>75%</th>\n",
       "      <th>max</th>\n",
       "    </tr>\n",
       "  </thead>\n",
       "  <tbody>\n",
       "    <tr>\n",
       "      <th>user_id</th>\n",
       "      <td>588101.000</td>\n",
       "      <td>1310692.216</td>\n",
       "      <td>202225.983</td>\n",
       "      <td>900000.000</td>\n",
       "      <td>1143190.000</td>\n",
       "      <td>1313725.000</td>\n",
       "      <td>1484088.000</td>\n",
       "      <td>1654483.000</td>\n",
       "    </tr>\n",
       "    <tr>\n",
       "      <th>converted</th>\n",
       "      <td>588101.000</td>\n",
       "      <td>0.025</td>\n",
       "      <td>0.157</td>\n",
       "      <td>0.000</td>\n",
       "      <td>0.000</td>\n",
       "      <td>0.000</td>\n",
       "      <td>0.000</td>\n",
       "      <td>1.000</td>\n",
       "    </tr>\n",
       "    <tr>\n",
       "      <th>total_ads</th>\n",
       "      <td>588101.000</td>\n",
       "      <td>24.821</td>\n",
       "      <td>43.715</td>\n",
       "      <td>1.000</td>\n",
       "      <td>4.000</td>\n",
       "      <td>13.000</td>\n",
       "      <td>27.000</td>\n",
       "      <td>2065.000</td>\n",
       "    </tr>\n",
       "    <tr>\n",
       "      <th>most_ads_hour</th>\n",
       "      <td>588101.000</td>\n",
       "      <td>14.469</td>\n",
       "      <td>4.835</td>\n",
       "      <td>0.000</td>\n",
       "      <td>11.000</td>\n",
       "      <td>14.000</td>\n",
       "      <td>18.000</td>\n",
       "      <td>23.000</td>\n",
       "    </tr>\n",
       "  </tbody>\n",
       "</table>\n",
       "</div>"
      ],
      "text/plain": [
       "                    count         mean         std         min          25%  \\\n",
       "user_id        588101.000  1310692.216  202225.983  900000.000  1143190.000   \n",
       "converted      588101.000        0.025       0.157       0.000        0.000   \n",
       "total_ads      588101.000       24.821      43.715       1.000        4.000   \n",
       "most_ads_hour  588101.000       14.469       4.835       0.000       11.000   \n",
       "\n",
       "                       50%          75%          max  \n",
       "user_id        1313725.000  1484088.000  1654483.000  \n",
       "converted            0.000        0.000        1.000  \n",
       "total_ads           13.000       27.000     2065.000  \n",
       "most_ads_hour       14.000       18.000       23.000  "
      ]
     },
     "execution_count": 201,
     "metadata": {},
     "output_type": "execute_result"
    }
   ],
   "source": [
    "#checking stat details\n",
    "df.describe().apply(lambda s: s.apply('{0:.3f}'.format)).T"
   ]
  },
  {
   "cell_type": "markdown",
   "id": "04d0932b",
   "metadata": {},
   "source": [
    "From the data above, the average conversion rate for both the 'ad' and 'psa' group is about 2.5%. In the next steps, a deeper dive into the data will be performed.\n",
    "\n",
    "<hr>"
   ]
  },
  {
   "cell_type": "markdown",
   "id": "4de47790",
   "metadata": {},
   "source": [
    "### Exploratory Data Analysis"
   ]
  },
  {
   "cell_type": "markdown",
   "id": "69beecc3",
   "metadata": {},
   "source": [
    "Data visualization is paramount to quick understanding of the data that can summarize and identify trends. A function for quick visual will be created for columns of interest."
   ]
  },
  {
   "cell_type": "code",
   "execution_count": 202,
   "id": "366781bc",
   "metadata": {},
   "outputs": [],
   "source": [
    "#define function for plotting\n",
    "def val_count(column):\n",
    "    plt.figure(figsize=(8,5))\n",
    "    sns.countplot(data=df, x=column)\n",
    "    plt.title(f'Value Count - {column}')\n",
    "    plt.show()\n",
    "\n",
    "    print(df[column].value_counts())"
   ]
  },
  {
   "cell_type": "code",
   "execution_count": 206,
   "id": "ff1359d7",
   "metadata": {
    "scrolled": false
   },
   "outputs": [
    {
     "data": {
      "image/png": "[encoded data removed]",
      "text/plain": [
       "<Figure size 576x360 with 1 Axes>"
      ]
     },
     "metadata": {
      "needs_background": "light"
     },
     "output_type": "display_data"
    },
    {
     "name": "stdout",
     "output_type": "stream",
     "text": [
      "ad     564577\n",
      "psa     23524\n",
      "Name: test_group, dtype: int64\n"
     ]
    },
    {
     "data": {
      "image/png": "[encoded data removed]",
      "text/plain": [
       "<Figure size 576x360 with 1 Axes>"
      ]
     },
     "metadata": {
      "needs_background": "light"
     },
     "output_type": "display_data"
    },
    {
     "name": "stdout",
     "output_type": "stream",
     "text": [
      "0    573258\n",
      "1     14843\n",
      "Name: converted, dtype: int64\n"
     ]
    },
    {
     "data": {
      "image/png": "[encoded data removed]",
      "text/plain": [
       "<Figure size 576x360 with 1 Axes>"
      ]
     },
     "metadata": {
      "needs_background": "light"
     },
     "output_type": "display_data"
    },
    {
     "name": "stdout",
     "output_type": "stream",
     "text": [
      "Friday       92608\n",
      "Monday       87073\n",
      "Sunday       85391\n",
      "Thursday     82982\n",
      "Saturday     81660\n",
      "Wednesday    80908\n",
      "Tuesday      77479\n",
      "Name: most_ads_day, dtype: int64\n"
     ]
    },
    {
     "data": {
      "image/png": "[encoded data removed]",
      "text/plain": [
       "<Figure size 576x360 with 1 Axes>"
      ]
     },
     "metadata": {
      "needs_background": "light"
     },
     "output_type": "display_data"
    },
    {
     "name": "stdout",
     "output_type": "stream",
     "text": [
      "13    47655\n",
      "12    47298\n",
      "11    46210\n",
      "14    45648\n",
      "15    44683\n",
      "10    38939\n",
      "16    37567\n",
      "17    34988\n",
      "18    32323\n",
      "9     31004\n",
      "19    30352\n",
      "21    29976\n",
      "20    28923\n",
      "22    26432\n",
      "23    20166\n",
      "8     17627\n",
      "7      6405\n",
      "0      5536\n",
      "2      5333\n",
      "1      4802\n",
      "3      2679\n",
      "6      2068\n",
      "5       765\n",
      "4       722\n",
      "Name: most_ads_hour, dtype: int64\n"
     ]
    }
   ],
   "source": [
    "#create columns of interest\n",
    "col_lst = df.columns[[1,2,4,5]]\n",
    "\n",
    "#loop through columns of interest\n",
    "for i in col_lst:\n",
    "    val_count(i)"
   ]
  },
  {
   "cell_type": "markdown",
   "id": "e108aa7e",
   "metadata": {},
   "source": [
    "From the above, the following observations are made:\n",
    "\n",
    "- the majority of users saw the ads as compared to those that saw the psa\n",
    "- as determined before, the conversion rate overall is low (2.5%)\n",
    "- the most ads seen by a user occurred on Friday\n",
    "- between 10AM and 3PM, users saw the most ads\n",
    "\n"
   ]
  },
  {
   "cell_type": "markdown",
   "id": "227db4f0",
   "metadata": {},
   "source": [
    "At this point, the data could be further distilled to better understand how the two groups interacted with the marketing changes. The first would be to see the conversion rate between the two groups."
   ]
  },
  {
   "cell_type": "code",
   "execution_count": 213,
   "id": "9ebf598b",
   "metadata": {},
   "outputs": [
    {
     "data": {
      "text/html": [
       "<div>\n",
       "<style scoped>\n",
       "    .dataframe tbody tr th:only-of-type {\n",
       "        vertical-align: middle;\n",
       "    }\n",
       "\n",
       "    .dataframe tbody tr th {\n",
       "        vertical-align: top;\n",
       "    }\n",
       "\n",
       "    .dataframe thead th {\n",
       "        text-align: right;\n",
       "    }\n",
       "</style>\n",
       "<table border=\"1\" class=\"dataframe\">\n",
       "  <thead>\n",
       "    <tr style=\"text-align: right;\">\n",
       "      <th></th>\n",
       "      <th>converted</th>\n",
       "    </tr>\n",
       "    <tr>\n",
       "      <th>test_group</th>\n",
       "      <th></th>\n",
       "    </tr>\n",
       "  </thead>\n",
       "  <tbody>\n",
       "    <tr>\n",
       "      <th>ad</th>\n",
       "      <td>0.025547</td>\n",
       "    </tr>\n",
       "    <tr>\n",
       "      <th>psa</th>\n",
       "      <td>0.017854</td>\n",
       "    </tr>\n",
       "  </tbody>\n",
       "</table>\n",
       "</div>"
      ],
      "text/plain": [
       "            converted\n",
       "test_group           \n",
       "ad           0.025547\n",
       "psa          0.017854"
      ]
     },
     "execution_count": 213,
     "metadata": {},
     "output_type": "execute_result"
    }
   ],
   "source": [
    "#conversion rate of test group\n",
    "pd.DataFrame(df.groupby('test_group').mean()['converted'])"
   ]
  },
  {
   "cell_type": "markdown",
   "id": "c8a695e0",
   "metadata": {},
   "source": [
    "The group that saw the ads had a higher conversion rate than those that saw the psa or nothing. Before it can be said that the marketing campaign was a success, statistical testing needs to be done to confirm. This will be done in the following section."
   ]
  },
  {
   "cell_type": "markdown",
   "id": "7077c5bf",
   "metadata": {},
   "source": [
    "To continue with the EDA, conversion rates by day will be evaluated as well as breaking the data down into groups."
   ]
  },
  {
   "cell_type": "code",
   "execution_count": 216,
   "id": "4e2deae4",
   "metadata": {},
   "outputs": [
    {
     "data": {
      "image/png": "[encoded data removed]",
      "text/plain": [
       "<Figure size 1080x576 with 1 Axes>"
      ]
     },
     "metadata": {
      "needs_background": "light"
     },
     "output_type": "display_data"
    }
   ],
   "source": [
    "#visualize conversion by day\n",
    "df_day_conv = pd.DataFrame(df.groupby('most_ads_day')['converted'].mean())\n",
    "df_day_conv.reset_index(inplace=True)\n",
    "\n",
    "plt.figure(figsize=(15,8))\n",
    "plt.bar(data=df_day_conv, x='most_ads_day', height='converted')\n",
    "plt.title('Conversion Rate by Day')\n",
    "plt.axhline(df['converted'].mean(), color='r', linestyle='--', label='average')\n",
    "plt.legend()\n",
    "plt.show()"
   ]
  },
  {
   "cell_type": "markdown",
   "id": "ba2980de",
   "metadata": {},
   "source": [
    "On Monday and Tuesday, conversion rates exceeded the average for the week.\n",
    "\n",
    "Let's see the break down per group throughout the week for the different metrics recorded for the experiment."
   ]
  },
  {
   "cell_type": "code",
   "execution_count": 117,
   "id": "267ef6a8",
   "metadata": {},
   "outputs": [
    {
     "data": {
      "text/html": [
       "<div>\n",
       "<style scoped>\n",
       "    .dataframe tbody tr th:only-of-type {\n",
       "        vertical-align: middle;\n",
       "    }\n",
       "\n",
       "    .dataframe tbody tr th {\n",
       "        vertical-align: top;\n",
       "    }\n",
       "\n",
       "    .dataframe thead th {\n",
       "        text-align: right;\n",
       "    }\n",
       "</style>\n",
       "<table border=\"1\" class=\"dataframe\">\n",
       "  <thead>\n",
       "    <tr style=\"text-align: right;\">\n",
       "      <th></th>\n",
       "      <th></th>\n",
       "      <th>total_ads</th>\n",
       "      <th>avg_ads_hour</th>\n",
       "      <th>converted</th>\n",
       "      <th>conv_rate</th>\n",
       "    </tr>\n",
       "    <tr>\n",
       "      <th>most_ads_day</th>\n",
       "      <th>test_group</th>\n",
       "      <th></th>\n",
       "      <th></th>\n",
       "      <th></th>\n",
       "      <th></th>\n",
       "    </tr>\n",
       "  </thead>\n",
       "  <tbody>\n",
       "    <tr>\n",
       "      <th rowspan=\"2\" valign=\"top\">Friday</th>\n",
       "      <th>ad</th>\n",
       "      <td>2369546</td>\n",
       "      <td>14.717493</td>\n",
       "      <td>1995</td>\n",
       "      <td>0.022465</td>\n",
       "    </tr>\n",
       "    <tr>\n",
       "      <th>psa</th>\n",
       "      <td>94950</td>\n",
       "      <td>14.156455</td>\n",
       "      <td>62</td>\n",
       "      <td>0.016303</td>\n",
       "    </tr>\n",
       "    <tr>\n",
       "      <th rowspan=\"2\" valign=\"top\">Monday</th>\n",
       "      <th>ad</th>\n",
       "      <td>2121848</td>\n",
       "      <td>14.620754</td>\n",
       "      <td>2778</td>\n",
       "      <td>0.033241</td>\n",
       "    </tr>\n",
       "    <tr>\n",
       "      <th>psa</th>\n",
       "      <td>83582</td>\n",
       "      <td>14.308110</td>\n",
       "      <td>79</td>\n",
       "      <td>0.022559</td>\n",
       "    </tr>\n",
       "    <tr>\n",
       "      <th rowspan=\"2\" valign=\"top\">Saturday</th>\n",
       "      <th>ad</th>\n",
       "      <td>1980043</td>\n",
       "      <td>14.714017</td>\n",
       "      <td>1679</td>\n",
       "      <td>0.021307</td>\n",
       "    </tr>\n",
       "    <tr>\n",
       "      <th>psa</th>\n",
       "      <td>80048</td>\n",
       "      <td>14.312456</td>\n",
       "      <td>40</td>\n",
       "      <td>0.013996</td>\n",
       "    </tr>\n",
       "    <tr>\n",
       "      <th rowspan=\"2\" valign=\"top\">Sunday</th>\n",
       "      <th>ad</th>\n",
       "      <td>2006360</td>\n",
       "      <td>14.381954</td>\n",
       "      <td>2027</td>\n",
       "      <td>0.024620</td>\n",
       "    </tr>\n",
       "    <tr>\n",
       "      <th>psa</th>\n",
       "      <td>77493</td>\n",
       "      <td>14.444590</td>\n",
       "      <td>63</td>\n",
       "      <td>0.020595</td>\n",
       "    </tr>\n",
       "    <tr>\n",
       "      <th rowspan=\"2\" valign=\"top\">Thursday</th>\n",
       "      <th>ad</th>\n",
       "      <td>1839933</td>\n",
       "      <td>14.524539</td>\n",
       "      <td>1711</td>\n",
       "      <td>0.021637</td>\n",
       "    </tr>\n",
       "    <tr>\n",
       "      <th>psa</th>\n",
       "      <td>104240</td>\n",
       "      <td>14.237388</td>\n",
       "      <td>79</td>\n",
       "      <td>0.020230</td>\n",
       "    </tr>\n",
       "    <tr>\n",
       "      <th rowspan=\"2\" valign=\"top\">Tuesday</th>\n",
       "      <th>ad</th>\n",
       "      <td>1792031</td>\n",
       "      <td>14.051950</td>\n",
       "      <td>2270</td>\n",
       "      <td>0.030440</td>\n",
       "    </tr>\n",
       "    <tr>\n",
       "      <th>psa</th>\n",
       "      <td>61690</td>\n",
       "      <td>13.685243</td>\n",
       "      <td>42</td>\n",
       "      <td>0.014448</td>\n",
       "    </tr>\n",
       "    <tr>\n",
       "      <th rowspan=\"2\" valign=\"top\">Wednesday</th>\n",
       "      <th>ad</th>\n",
       "      <td>1904940</td>\n",
       "      <td>14.258622</td>\n",
       "      <td>1963</td>\n",
       "      <td>0.025356</td>\n",
       "    </tr>\n",
       "    <tr>\n",
       "      <th>psa</th>\n",
       "      <td>80478</td>\n",
       "      <td>14.926648</td>\n",
       "      <td>55</td>\n",
       "      <td>0.015759</td>\n",
       "    </tr>\n",
       "  </tbody>\n",
       "</table>\n",
       "</div>"
      ],
      "text/plain": [
       "                         total_ads  avg_ads_hour  converted  conv_rate\n",
       "most_ads_day test_group                                               \n",
       "Friday       ad            2369546     14.717493       1995   0.022465\n",
       "             psa             94950     14.156455         62   0.016303\n",
       "Monday       ad            2121848     14.620754       2778   0.033241\n",
       "             psa             83582     14.308110         79   0.022559\n",
       "Saturday     ad            1980043     14.714017       1679   0.021307\n",
       "             psa             80048     14.312456         40   0.013996\n",
       "Sunday       ad            2006360     14.381954       2027   0.024620\n",
       "             psa             77493     14.444590         63   0.020595\n",
       "Thursday     ad            1839933     14.524539       1711   0.021637\n",
       "             psa            104240     14.237388         79   0.020230\n",
       "Tuesday      ad            1792031     14.051950       2270   0.030440\n",
       "             psa             61690     13.685243         42   0.014448\n",
       "Wednesday    ad            1904940     14.258622       1963   0.025356\n",
       "             psa             80478     14.926648         55   0.015759"
      ]
     },
     "execution_count": 117,
     "metadata": {},
     "output_type": "execute_result"
    }
   ],
   "source": [
    "#create data frame grouped by day and test group\n",
    "df_ads_day = pd.DataFrame(df.groupby(by=['most_ads_day', 'test_group'])['total_ads'].sum())\n",
    "df_ads_day['avg_ads_hour'] = df.groupby(by=['most_ads_day', 'test_group'])['most_ads_hour'].mean()\n",
    "df_ads_day['converted'] = df.groupby(by=['most_ads_day', 'test_group'])['converted'].sum()\n",
    "df_ads_day['conv_rate'] = df.groupby(by=['most_ads_day', 'test_group'])['converted'].sum() / df.groupby(by=['most_ads_day', 'test_group'])['converted'].count()\n",
    "\n",
    "df_ads_day"
   ]
  },
  {
   "cell_type": "code",
   "execution_count": 158,
   "id": "679645d5",
   "metadata": {},
   "outputs": [],
   "source": [
    "#visualize day data\n",
    "def day_visualize(column):\n",
    "    plt.figure(figsize=(8,5))\n",
    "    sns.barplot(data=df_ads_day.reset_index(), x='most_ads_day', y=column, hue='test_group')\n",
    "    plt.xlabel('Day of the Week')\n",
    "    plt.ticklabel_format(axis='y', style='plain')\n",
    "    plt.title(f'{column} per Group by Day')\n",
    "    plt.show()"
   ]
  },
  {
   "cell_type": "code",
   "execution_count": 217,
   "id": "f1687197",
   "metadata": {},
   "outputs": [
    {
     "data": {
      "image/png": "[encoded data removed]",
      "text/plain": [
       "<Figure size 576x360 with 1 Axes>"
      ]
     },
     "metadata": {
      "needs_background": "light"
     },
     "output_type": "display_data"
    },
    {
     "data": {
      "image/png": "[encoded data removed]",
      "text/plain": [
       "<Figure size 576x360 with 1 Axes>"
      ]
     },
     "metadata": {
      "needs_background": "light"
     },
     "output_type": "display_data"
    },
    {
     "data": {
      "image/png": "[encoded data removed]",
      "text/plain": [
       "<Figure size 576x360 with 1 Axes>"
      ]
     },
     "metadata": {
      "needs_background": "light"
     },
     "output_type": "display_data"
    },
    {
     "data": {
      "image/png": "[encoded data removed]",
      "text/plain": [
       "<Figure size 576x360 with 1 Axes>"
      ]
     },
     "metadata": {
      "needs_background": "light"
     },
     "output_type": "display_data"
    }
   ],
   "source": [
    "#loop through columns\n",
    "for i in df_ads_day.columns:\n",
    "    day_visualize(i)"
   ]
  },
  {
   "cell_type": "markdown",
   "id": "eaddc0fe",
   "metadata": {},
   "source": [
    "Though additional analysis could be performed, this concludes the EDA section of the notebook. \n",
    "\n",
    "<hr>"
   ]
  },
  {
   "cell_type": "markdown",
   "id": "76dac7b9",
   "metadata": {},
   "source": [
    "### A/B Testing"
   ]
  },
  {
   "cell_type": "markdown",
   "id": "196ddd7a",
   "metadata": {},
   "source": [
    "As seen in the previous section, the group that saw the ads had a higher conversion rate than those that saw the psa. In order to solidify this claim, hypothesis testing needs to be conducted. For the purpose of the test, a proportions z-test will be performed.\n",
    "\n",
    "Assuming that $p_A$ is the conversion rate for the ads group and $p_B$ is the conversion rate for the psa group, we care about testing:\n",
    "\n",
    "$$ d = p_A - p_B $$\n",
    "\n",
    "This allows us to set up the following hypothesis test:\n",
    "\n",
    "$$ H_0 : d = 0 \\; \\; \\; \\text{vs}\\; \\; \\; H_1 : d \\neq 0 $$\n",
    "\n",
    "For this test, the significance threshold will be 5%."
   ]
  },
  {
   "cell_type": "code",
   "execution_count": 163,
   "id": "1133a163",
   "metadata": {},
   "outputs": [],
   "source": [
    "#import testing module\n",
    "from statsmodels.stats.proportion import proportions_ztest"
   ]
  },
  {
   "cell_type": "code",
   "execution_count": 221,
   "id": "b87c75d5",
   "metadata": {},
   "outputs": [
    {
     "name": "stdout",
     "output_type": "stream",
     "text": [
      "Converted Ads: 14423\n",
      "Converted PSA: 420\n"
     ]
    }
   ],
   "source": [
    "# number of converted for each group\n",
    "conv = df.groupby('test_group').sum()['converted']\n",
    "counts = [conv[0], conv[1]]\n",
    "print('Converted Ads:', counts[0])\n",
    "print('Converted PSA:', counts[1])"
   ]
  },
  {
   "cell_type": "code",
   "execution_count": 222,
   "id": "480eb14b",
   "metadata": {},
   "outputs": [
    {
     "name": "stdout",
     "output_type": "stream",
     "text": [
      "Total Observation Ads: 564577\n",
      "Total Observation PSA: 23524\n"
     ]
    }
   ],
   "source": [
    "# number of observations for each group\n",
    "totals = df.groupby('test_group').count()['converted']\n",
    "obs = [totals[0], totals[1]]\n",
    "print('Total Observation Ads:', obs[0])\n",
    "print('Total Observation PSA:', obs[1])"
   ]
  },
  {
   "cell_type": "code",
   "execution_count": 223,
   "id": "a9f59f46",
   "metadata": {},
   "outputs": [
    {
     "name": "stdout",
     "output_type": "stream",
     "text": [
      "p-value = 1.7052807161559727e-13\n"
     ]
    }
   ],
   "source": [
    "#test\n",
    "print('p-value =', proportions_ztest(counts, obs)[1])"
   ]
  },
  {
   "cell_type": "markdown",
   "id": "a0c0c1b3",
   "metadata": {},
   "source": [
    "From the test above, the p-value is significantly lower than the significance threshold at 5% which allows us to reject the null hypothesis. It looks like the marketing efforts were a success!\n",
    "\n",
    "<hr>"
   ]
  },
  {
   "cell_type": "markdown",
   "id": "b47d4035",
   "metadata": {},
   "source": [
    "### Conclusion"
   ]
  },
  {
   "cell_type": "markdown",
   "id": "8b1bf867",
   "metadata": {},
   "source": [
    "In this notebook, marketing data was imported, cleaned, visualized and statistically tested to conclude that the marketing efforts was effective in converting customers."
   ]
  }
 ],
 "metadata": {
  "hide_input": false,
  "kernelspec": {
   "display_name": "Python 3 (ipykernel)",
   "language": "python",
   "name": "python3"
  },
  "language_info": {
   "codemirror_mode": {
    "name": "ipython",
    "version": 3
   },
   "file_extension": ".py",
   "mimetype": "text/x-python",
   "name": "python",
   "nbconvert_exporter": "python",
   "pygments_lexer": "ipython3",
   "version": "3.9.7"
  }
 },
 "nbformat": 4,
 "nbformat_minor": 5
}
